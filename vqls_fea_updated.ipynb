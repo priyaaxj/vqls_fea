{
 "cells": [
  {
   "cell_type": "code",
   "execution_count": null,
   "id": "95bfd62d-8524-48a7-abbc-3ed3438a45a4",
   "metadata": {},
   "outputs": [],
   "source": [
    "#!pip install seaborn"
   ]
  },
  {
   "cell_type": "code",
   "execution_count": 1,
   "id": "a9a0828a-5863-4892-9fa2-5110e7a31445",
   "metadata": {},
   "outputs": [],
   "source": [
    "# Pennylane\n",
    "import pennylane as qml\n",
    "from pennylane import numpy as np\n",
    "\n",
    "# Plotting\n",
    "import matplotlib.pyplot as plt"
   ]
  },
  {
   "cell_type": "code",
   "execution_count": 2,
   "id": "c9a9e2d8",
   "metadata": {},
   "outputs": [
    {
     "name": "stdout",
     "output_type": "stream",
     "text": [
      "Normalized stiffness matrix K:\n",
      "[[ 0.5 -0.5]\n",
      " [-0.5  0.5]]\n",
      "Normalized force vector b:\n",
      "[0. 1.]\n"
     ]
    }
   ],
   "source": [
    "\n",
    "# FEA Constants\n",
    "E = 200e9  # Young's modulus (Pa)\n",
    "A = 0.01   # Cross-sectional area (m^2)\n",
    "L = 1.0    # Length (m)\n",
    "F = 1000   # Force applied at node 1 (N)\n",
    "\n",
    "# Stiffness matrix K for 2-node 1-element pillar\n",
    "K = (A * E / L) * np.array([[1, -1], [-1, 1]])\n",
    "\n",
    "# Force vector b\n",
    "b = np.array([0.0, F])\n",
    "\n",
    "# Normalize K and b for quantum compatibility\n",
    "K_norm = K / np.linalg.norm(K)\n",
    "b_norm = b / np.linalg.norm(b)\n",
    "\n",
    "print(\"Normalized stiffness matrix K:\")\n",
    "print(K_norm)\n",
    "print(\"Normalized force vector b:\")\n",
    "print(b_norm)\n"
   ]
  },
  {
   "cell_type": "code",
   "execution_count": 3,
   "id": "27f784dc-c114-4516-b9c0-ffa4c0c124a0",
   "metadata": {},
   "outputs": [],
   "source": [
    "n_qubits = 3  # Number of system qubits.\n",
    "n_shots = 10 ** 6  # Number of quantum measurements.\n",
    "tot_qubits = n_qubits + 1  # Addition of an ancillary qubit.\n",
    "ancilla_idx = n_qubits  # Index of the ancillary qubit (last position).\n",
    "steps = 30  # Number of optimization steps\n",
    "eta = 0.8  # Learning rate\n",
    "q_delta = 0.001  # Initial spread of random quantum weights\n",
    "rng_seed = 0  # Seed for random number generator"
   ]
  },
  {
   "cell_type": "code",
   "execution_count": 4,
   "id": "7147e091-0696-4241-ad3f-33e789bb556d",
   "metadata": {},
   "outputs": [],
   "source": [
    "# Coefficients of the linear combination A = c_0 A_0 + c_1 A_1 ...\n",
    "c = np.array([1.0, 0.2, 0.2])\n",
    "\n",
    "def U_b():\n",
    "    \"\"\"Unitary matrix rotating the ground state to the problem vector |b> = U_b |0>.\"\"\"\n",
    "    for idx in range(n_qubits):\n",
    "        qml.Hadamard(wires=idx)\n",
    "\n",
    "def CA(idx):\n",
    "    \"\"\"Controlled versions of the unitary components A_l of the problem matrix A.\"\"\"\n",
    "    if idx == 0:\n",
    "        # Identity operation\n",
    "        None\n",
    "\n",
    "    elif idx == 1:\n",
    "        qml.CNOT(wires=[ancilla_idx, 0])\n",
    "        qml.CZ(wires=[ancilla_idx, 1])\n",
    "\n",
    "    elif idx == 2:\n",
    "        qml.CNOT(wires=[ancilla_idx, 0])"
   ]
  },
  {
   "cell_type": "code",
   "execution_count": 5,
   "id": "a8bfb743-4598-4967-b352-8f947d16240e",
   "metadata": {},
   "outputs": [],
   "source": [
    "def variational_block(weights):\n",
    "    \"\"\"Variational circuit mapping the ground state |0> to the ansatz state |x>.\"\"\"\n",
    "    # We first prepare an equal superposition of all the states of the computational basis.\n",
    "    for idx in range(n_qubits):\n",
    "        qml.Hadamard(wires=idx)\n",
    "\n",
    "    # A very minimal variational circuit.\n",
    "    for idx, element in enumerate(weights):\n",
    "        qml.RY(element, wires=idx)"
   ]
  },
  {
   "cell_type": "code",
   "execution_count": 6,
   "id": "030f2d12-56bf-4e40-ba8c-e341d6ef1a87",
   "metadata": {},
   "outputs": [],
   "source": [
    "dev_mu = qml.device(\"lightning.qubit\", wires=tot_qubits)\n",
    "\n",
    "@qml.qnode(dev_mu, interface=\"autograd\")\n",
    "def local_hadamard_test(weights, l=None, lp=None, j=None, part=None):\n",
    "\n",
    "    # First Hadamard gate applied to the ancillary qubit.\n",
    "    qml.Hadamard(wires=ancilla_idx)\n",
    "\n",
    "    # For estimating the imaginary part of the coefficient \"mu\", we must add a \"-i\"\n",
    "    # phase gate.\n",
    "    if part == \"Im\" or part == \"im\":\n",
    "        qml.PhaseShift(-np.pi / 2, wires=ancilla_idx)\n",
    "\n",
    "    # Variational circuit generating a guess for the solution vector |x>\n",
    "    variational_block(weights)\n",
    "\n",
    "    # Controlled application of the unitary component A_l of the problem matrix A.\n",
    "    CA(l)\n",
    "\n",
    "    # Adjoint of the unitary U_b associated to the problem vector |b>.\n",
    "    # In this specific example Adjoint(U_b) = U_b.\n",
    "    U_b()\n",
    "\n",
    "    # Controlled Z operator at position j. If j = -1, apply the identity.\n",
    "    if j != -1:\n",
    "        qml.CZ(wires=[ancilla_idx, j])\n",
    "\n",
    "    # Unitary U_b associated to the problem vector |b>.\n",
    "    U_b()\n",
    "\n",
    "    # Controlled application of Adjoint(A_lp).\n",
    "    # In this specific example Adjoint(A_lp) = A_lp.\n",
    "    CA(lp)\n",
    "\n",
    "    # Second Hadamard gate applied to the ancillary qubit.\n",
    "    qml.Hadamard(wires=ancilla_idx)\n",
    "\n",
    "    # Expectation value of Z for the ancillary qubit.\n",
    "    return qml.expval(qml.PauliZ(wires=ancilla_idx))"
   ]
  },
  {
   "cell_type": "code",
   "execution_count": 7,
   "id": "b161d06d-970c-4153-bf28-63f8d9677bfd",
   "metadata": {},
   "outputs": [],
   "source": [
    "def mu(weights, l=None, lp=None, j=None):\n",
    "    \"\"\"Generates the coefficients to compute the \"local\" cost function C_L.\"\"\"\n",
    "\n",
    "    mu_real = local_hadamard_test(weights, l=l, lp=lp, j=j, part=\"Re\")\n",
    "    mu_imag = local_hadamard_test(weights, l=l, lp=lp, j=j, part=\"Im\")\n",
    "\n",
    "    return mu_real + 1.0j * mu_imag"
   ]
  },
  {
   "cell_type": "code",
   "execution_count": 8,
   "id": "87c004f8-4a08-415c-be46-e9dd87908b7b",
   "metadata": {},
   "outputs": [],
   "source": [
    "def psi_norm(weights):\n",
    "    \"\"\"Returns the normalization constant <psi|psi>, where |psi> = A |x>.\"\"\"\n",
    "    norm = 0.0\n",
    "\n",
    "    for l in range(0, len(c)):\n",
    "        for lp in range(0, len(c)):\n",
    "            norm = norm + c[l] * np.conj(c[lp]) * mu(weights, l, lp, -1)\n",
    "\n",
    "    return abs(norm)"
   ]
  },
  {
   "cell_type": "code",
   "execution_count": 9,
   "id": "9c20fa1a-5daf-42b5-a29c-70892838d4d9",
   "metadata": {},
   "outputs": [],
   "source": [
    "def cost_loc(weights):\n",
    "    \"\"\"Local version of the cost function. Tends to zero when A|x> is proportional to |b>.\"\"\"\n",
    "    mu_sum = 0.0\n",
    "\n",
    "    for l in range(0, len(c)):\n",
    "        for lp in range(0, len(c)):\n",
    "            for j in range(0, n_qubits):\n",
    "                mu_sum = mu_sum + c[l] * np.conj(c[lp]) * mu(weights, l, lp, j)\n",
    "\n",
    "    mu_sum = abs(mu_sum)\n",
    "\n",
    "    # Cost function C_L\n",
    "    return 0.5 - 0.5 * mu_sum / (n_qubits * psi_norm(weights))"
   ]
  },
  {
   "cell_type": "code",
   "execution_count": 10,
   "id": "b89ebd4a-03ef-4c9c-9086-7d58f7e782b0",
   "metadata": {},
   "outputs": [],
   "source": [
    "np.random.seed(rng_seed)\n",
    "w = q_delta * np.random.randn(n_qubits, requires_grad=True)"
   ]
  },
  {
   "cell_type": "code",
   "execution_count": 11,
   "id": "930233f0-fed5-4b3b-a248-a4b28ae5899f",
   "metadata": {},
   "outputs": [],
   "source": [
    "#opt = qml.GradientDescentOptimizer(eta)\n",
    "opt = qml.AdamOptimizer(eta)"
   ]
  },
  {
   "cell_type": "code",
   "execution_count": 12,
   "id": "7fba73fb-562c-4b2b-a640-9d66dffad584",
   "metadata": {},
   "outputs": [
    {
     "name": "stdout",
     "output_type": "stream",
     "text": [
      "Step   0       Cost_L = 0.0089888\n",
      "Step   1       Cost_L = 0.1237400\n",
      "Step   2       Cost_L = 0.0074220\n",
      "Step   3       Cost_L = 0.0221629\n",
      "Step   4       Cost_L = 0.0600698\n",
      "Step   5       Cost_L = 0.0583040\n",
      "Step   6       Cost_L = 0.0345639\n",
      "Step   7       Cost_L = 0.0141323\n",
      "Step   8       Cost_L = 0.0095826\n",
      "Step   9       Cost_L = 0.0180468\n",
      "Step  10       Cost_L = 0.0263379\n",
      "Step  11       Cost_L = 0.0209385\n",
      "Step  12       Cost_L = 0.0098046\n",
      "Step  13       Cost_L = 0.0073984\n",
      "Step  14       Cost_L = 0.0118275\n",
      "Step  15       Cost_L = 0.0134575\n",
      "Step  16       Cost_L = 0.0101531\n",
      "Step  17       Cost_L = 0.0068601\n",
      "Step  18       Cost_L = 0.0068760\n",
      "Step  19       Cost_L = 0.0076490\n",
      "Step  20       Cost_L = 0.0065159\n",
      "Step  21       Cost_L = 0.0047017\n",
      "Step  22       Cost_L = 0.0039245\n",
      "Step  23       Cost_L = 0.0042642\n",
      "Step  24       Cost_L = 0.0050086\n",
      "Step  25       Cost_L = 0.0051306\n",
      "Step  26       Cost_L = 0.0039590\n",
      "Step  27       Cost_L = 0.0023012\n",
      "Step  28       Cost_L = 0.0017062\n",
      "Step  29       Cost_L = 0.0022332\n"
     ]
    }
   ],
   "source": [
    "cost_history = []\n",
    "for it in range(steps):\n",
    "    w, cost = opt.step_and_cost(cost_loc, w)\n",
    "    print(\"Step {:3d}       Cost_L = {:9.7f}\".format(it, cost))\n",
    "    cost_history.append(cost)"
   ]
  },
  {
   "cell_type": "code",
   "execution_count": 13,
   "id": "7e3c696e-8890-40f4-bfc1-ab742b6aaee9",
   "metadata": {},
   "outputs": [
    {
     "data": {
      "image/png": "[encoded data removed]",
      "text/plain": [
       "<Figure size 640x480 with 1 Axes>"
      ]
     },
     "metadata": {},
     "output_type": "display_data"
    }
   ],
   "source": [
    "plt.style.use(\"seaborn-v0_8-dark\")\n",
    "plt.plot(cost_history, \"g\")\n",
    "plt.ylabel(\"Cost function\")\n",
    "plt.xlabel(\"Optimization steps\")\n",
    "plt.show()"
   ]
  },
  {
   "cell_type": "markdown",
   "id": "3ad5ae66-4d38-4157-b802-0272e856546c",
   "metadata": {},
   "source": [
    "Comparison with Classical Approach"
   ]
  },
  {
   "cell_type": "code",
   "execution_count": 14,
   "id": "10bbd0cc-50e1-41bd-a076-8f334b512646",
   "metadata": {},
   "outputs": [
    {
     "name": "stdout",
     "output_type": "stream",
     "text": [
      "['Solarize_Light2', '_classic_test_patch', '_mpl-gallery', '_mpl-gallery-nogrid', 'bmh', 'classic', 'dark_background', 'fast', 'fivethirtyeight', 'ggplot', 'grayscale', 'seaborn-v0_8', 'seaborn-v0_8-bright', 'seaborn-v0_8-colorblind', 'seaborn-v0_8-dark', 'seaborn-v0_8-dark-palette', 'seaborn-v0_8-darkgrid', 'seaborn-v0_8-deep', 'seaborn-v0_8-muted', 'seaborn-v0_8-notebook', 'seaborn-v0_8-paper', 'seaborn-v0_8-pastel', 'seaborn-v0_8-poster', 'seaborn-v0_8-talk', 'seaborn-v0_8-ticks', 'seaborn-v0_8-white', 'seaborn-v0_8-whitegrid', 'tableau-colorblind10']\n"
     ]
    }
   ],
   "source": [
    "print(plt.style.available)"
   ]
  },
  {
   "cell_type": "code",
   "execution_count": 15,
   "id": "02d8d056-956f-4478-864c-fcc0a8bdc9c3",
   "metadata": {},
   "outputs": [],
   "source": [
    "Id = np.identity(2)\n",
    "Z = np.array([[1, 0], [0, -1]])\n",
    "X = np.array([[0, 1], [1, 0]])\n",
    "\n",
    "A_0 = np.identity(8)\n",
    "A_1 = np.kron(np.kron(X, Z), Id)\n",
    "A_2 = np.kron(np.kron(X, Id), Id)\n",
    "\n",
    "A_num = c[0] * A_0 + c[1] * A_1 + c[2] * A_2\n",
    "b = np.ones(8) / np.sqrt(8)"
   ]
  },
  {
   "cell_type": "code",
   "execution_count": 16,
   "id": "0c8ce1e4-190a-44d2-aa72-ca31b658a03f",
   "metadata": {},
   "outputs": [
    {
     "name": "stdout",
     "output_type": "stream",
     "text": [
      "A = \n",
      " [[1.  0.  0.  0.  0.4 0.  0.  0. ]\n",
      " [0.  1.  0.  0.  0.  0.4 0.  0. ]\n",
      " [0.  0.  1.  0.  0.  0.  0.  0. ]\n",
      " [0.  0.  0.  1.  0.  0.  0.  0. ]\n",
      " [0.4 0.  0.  0.  1.  0.  0.  0. ]\n",
      " [0.  0.4 0.  0.  0.  1.  0.  0. ]\n",
      " [0.  0.  0.  0.  0.  0.  1.  0. ]\n",
      " [0.  0.  0.  0.  0.  0.  0.  1. ]]\n",
      "b = \n",
      " [0.35355339 0.35355339 0.35355339 0.35355339 0.35355339 0.35355339\n",
      " 0.35355339 0.35355339]\n"
     ]
    }
   ],
   "source": [
    "print(\"A = \\n\", A_num)\n",
    "print(\"b = \\n\", b)"
   ]
  },
  {
   "cell_type": "code",
   "execution_count": 17,
   "id": "c7fe3c66-9158-44fb-9a46-94e8475cef45",
   "metadata": {},
   "outputs": [],
   "source": [
    "A_inv = np.linalg.inv(A_num)\n",
    "x = np.dot(A_inv, b)\n",
    "c_probs = (x / np.linalg.norm(x)) ** 2"
   ]
  },
  {
   "cell_type": "code",
   "execution_count": 18,
   "id": "5e6f68aa-cfc1-4e39-9af2-65f62863a779",
   "metadata": {},
   "outputs": [],
   "source": [
    "dev_x = qml.device(\"lightning.qubit\", wires=n_qubits, shots=n_shots)\n",
    "\n",
    "@qml.qnode(dev_x, interface=\"autograd\")\n",
    "def prepare_and_sample(weights):\n",
    "\n",
    "    # Variational circuit generating a guess for the solution vector |x>\n",
    "    variational_block(weights)\n",
    "\n",
    "    # We assume that the system is measured in the computational basis.\n",
    "    # then sampling the device will give us a value of 0 or 1 for each qubit (n_qubits)\n",
    "    # this will be repeated for the total number of shots provided (n_shots)\n",
    "    return qml.sample()"
   ]
  },
  {
   "cell_type": "code",
   "execution_count": 19,
   "id": "86cefad6-f951-4dca-813f-b68727a156ba",
   "metadata": {},
   "outputs": [],
   "source": [
    "raw_samples = prepare_and_sample(w)\n",
    "\n",
    "# convert the raw samples (bit strings) into integers and count them\n",
    "samples = []\n",
    "for sam in raw_samples:\n",
    "    samples.append(int(\"\".join(str(bs) for bs in sam), base=2))\n",
    "\n",
    "q_probs = np.bincount(samples) / n_shots"
   ]
  },
  {
   "cell_type": "code",
   "execution_count": 20,
   "id": "2bedced1-7f81-41e0-9337-a57f8a4cf1bc",
   "metadata": {},
   "outputs": [
    {
     "name": "stdout",
     "output_type": "stream",
     "text": [
      "x_n^2 =\n",
      " [0.08445946 0.08445946 0.16554054 0.16554054 0.08445946 0.08445946\n",
      " 0.16554054 0.16554054]\n"
     ]
    }
   ],
   "source": [
    "print(\"x_n^2 =\\n\", c_probs)"
   ]
  },
  {
   "cell_type": "code",
   "execution_count": 21,
   "id": "ca40e111-ccca-4a6a-b6b9-d3b84f107a03",
   "metadata": {},
   "outputs": [
    {
     "data": {
      "image/png": "[encoded data removed]",
      "text/plain": [
       "<Figure size 700x400 with 2 Axes>"
      ]
     },
     "metadata": {},
     "output_type": "display_data"
    }
   ],
   "source": [
    "fig, (ax1, ax2) = plt.subplots(1, 2, figsize=(7, 4))\n",
    "\n",
    "ax1.bar(np.arange(0, 2 ** n_qubits), c_probs, color=\"blue\")\n",
    "ax1.set_xlim(-0.5, 2 ** n_qubits - 0.5)\n",
    "ax1.set_xlabel(\"Vector space basis\")\n",
    "ax1.set_title(\"Classical probabilities\")\n",
    "\n",
    "ax2.bar(np.arange(0, 2 ** n_qubits), q_probs, color=\"green\")\n",
    "ax2.set_xlim(-0.5, 2 ** n_qubits - 0.5)\n",
    "ax2.set_xlabel(\"Hilbert space basis\")\n",
    "ax2.set_title(\"Quantum probabilities\")\n",
    "\n",
    "plt.show()"
   ]
  },
  {
   "cell_type": "code",
   "execution_count": null,
   "id": "8d94b23d-79bc-4396-87c3-114d0b961725",
   "metadata": {},
   "outputs": [],
   "source": []
  }
 ],
 "metadata": {
  "kernelspec": {
   "display_name": "Python 3 (ipykernel)",
   "language": "python",
   "name": "python3"
  },
  "language_info": {
   "codemirror_mode": {
    "name": "ipython",
    "version": 3
   },
   "file_extension": ".py",
   "mimetype": "text/x-python",
   "name": "python",
   "nbconvert_exporter": "python",
   "pygments_lexer": "ipython3",
   "version": "3.10.12"
  }
 },
 "nbformat": 4,
 "nbformat_minor": 5
}
